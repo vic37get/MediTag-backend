{
 "cells": [
  {
   "cell_type": "code",
   "execution_count": null,
   "id": "eb2093cc",
   "metadata": {},
   "outputs": [],
   "source": [
    "import sys\n",
    "import os\n",
    "root_dir = os.path.abspath(os.path.join(os.getcwd(), '..'))\n",
    "if root_dir not in sys.path:\n",
    "    sys.path.insert(0, root_dir)\n",
    "\n",
    "\n",
    "from dotenv import load_dotenv\n",
    "load_dotenv()\n",
    "\n",
    "from tqdm.auto import tqdm"
   ]
  },
  {
   "cell_type": "code",
   "execution_count": null,
   "id": "141c7022",
   "metadata": {},
   "outputs": [],
   "source": [
    "from app.meditag_sdk import meditag as mt"
   ]
  },
  {
   "cell_type": "code",
   "execution_count": null,
   "id": "f8e3b5c3",
   "metadata": {},
   "outputs": [],
   "source": [
    "mt.init(\n",
    "    api_url='http://10.2.50.30:8000/',\n",
    "    user='mario',\n",
    "    password='teste@123'\n",
    ")"
   ]
  },
  {
   "cell_type": "code",
   "execution_count": null,
   "id": "e36bfb9c",
   "metadata": {},
   "outputs": [],
   "source": [
    "laudos = [\n",
    "    {\"report\": \"Teste de classificação via SDK\", \"images\": [\"/path/to/image1.jpg\", \"/path/to/image2.jpg\"]},\n",
    "    {\"report\": \"Outro teste de classificação via SDK\", \"images\": [\"/path/to/image3.jpg\", \"/path/to/image4.jpg\"]},\n",
    "    {\"report\": \"Mais um teste de classificação via SDK\", \"images\": [\"/path/to/image5.jpg\", \"/path/to/image6.jpg\"]},\n",
    "]"
   ]
  },
  {
   "cell_type": "code",
   "execution_count": null,
   "id": "fb997007",
   "metadata": {},
   "outputs": [],
   "source": [
    "records = []\n",
    "for indice in tqdm(laudos, desc=\"Rotulando os dados\", colour='yellow'):\n",
    "    record = mt.ImageClassificationRecord(\n",
    "        report=indice[\"report\"],\n",
    "        images=indice[\"images\"]\n",
    "    )\n",
    "    records.append(record)"
   ]
  },
  {
   "cell_type": "code",
   "execution_count": null,
   "id": "3dd59b06",
   "metadata": {},
   "outputs": [],
   "source": [
    "labels = [\"Certo\", \"Errado\"]\n",
    "tags = [\"raio-x\", \"torax\", 'adulto']\n",
    "settings = mt.ImageClassificationSettings(labels=labels, tags=tags)\n",
    "mt.configure_dataset(\n",
    "    \"raio-x4 torax\",\n",
    "    settings,\n",
    "    workspace='Raio-X',\n",
    "    description=\"Classificação de raios-x do tórax\",\n",
    "    question=\"O raio-x apresenta algum problema?\"\n",
    ")"
   ]
  },
  {
   "cell_type": "code",
   "execution_count": null,
   "id": "a7ea268c",
   "metadata": {},
   "outputs": [],
   "source": [
    "mt.log(records, 'raio-x4 torax', workspace='Raio-X')"
   ]
  }
 ],
 "metadata": {
  "kernelspec": {
   "display_name": "venv",
   "language": "python",
   "name": "python3"
  },
  "language_info": {
   "codemirror_mode": {
    "name": "ipython",
    "version": 3
   },
   "file_extension": ".py",
   "mimetype": "text/x-python",
   "name": "python",
   "nbconvert_exporter": "python",
   "pygments_lexer": "ipython3",
   "version": "3.12.11"
  }
 },
 "nbformat": 4,
 "nbformat_minor": 5
}
